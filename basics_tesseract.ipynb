{
 "cells": [
  {
   "cell_type": "code",
   "execution_count": 34,
   "metadata": {},
   "outputs": [],
   "source": [
    "import pytesseract\n",
    "from PIL import Image"
   ]
  },
  {
   "cell_type": "code",
   "execution_count": 35,
   "metadata": {},
   "outputs": [],
   "source": [
    "img_file=\"data/page_01.jpg\"\n",
    "no_noise=\"temp/no_noise.jpg\"\n",
    "Indexed_image=\"data/index_02.JPG\"\n",
    "Hand_written=\"temp/bw_image.jpg\""
   ]
  },
  {
   "cell_type": "code",
   "execution_count": 36,
   "metadata": {},
   "outputs": [],
   "source": [
    "img=Image.open(no_noise)"
   ]
  },
  {
   "cell_type": "code",
   "execution_count": 37,
   "metadata": {},
   "outputs": [],
   "source": [
    "ocr_result=pytesseract.image_to_string(img)"
   ]
  },
  {
   "cell_type": "code",
   "execution_count": 38,
   "metadata": {},
   "outputs": [
    {
     "name": "stdout",
     "output_type": "stream",
     "text": [
      "EVO RIEL NeRMale\n",
      "\n",
      "an “aster Porning in the year LONG, took my 8ix-yearerg\n",
      "Son by the hand and beran walking fron FY home town towarg the\n",
      "Valleys and forests of the “arpathing Mountains, Por NGarly\n",
      "Cight months we lived in barng, attics ang makeshirt Cabins,\n",
      "the &eneroug help of an unusually COUrAazeoUs man, we manaved to\n",
      "Survive Baronets Greatest Lit of madness, Those who walked in\n",
      "the °Dposite direction on that Easte): day “Were less fortunate,\n",
      "They Were taken in trainloads to Place; whose once Obscure Nanes\n",
      "are now, and forever Wil} be, S¥Nonymous with terror, evil ang\n",
      "\n",
      "death, What follows is our Story of Survival told to the best\n",
      "\n",
      "or Hungary and Proceeded to Organize the deportation of the Tavs,\n",
      "To the Nazis this was 4 routine assicmmont, Within hourg AL loon\n",
      "officials vere informeg of Oberationag) Plans, The high Corimang\n",
      "issuog a *rective designed to Placate J2wish fears and induee\n",
      "\n",
      "Cooperation, it was atnounced that the Jews would be Shipped to\n",
      "\n",
      "Grafted lor temporary Work, There were Many who believed this\n",
      "Version, Others, less Credulous, resisrog themielveg and hoped for\n",
      "the best, Still Otherg began to make Plans for escane, By Apriy\n",
      "13 the Hungarian Jews Wore deing rounded UD fron all over the\n",
      "country in What “4S once 4 huge brick factory, The lest is well\n",
      "known, ,\n",
      "\n",
      "and usually Came home on Weekends,\n",
      "\n",
      "At th Limo jt WOS no Tonrey hogsible LOY ow Tow to travel freoly,\n",
      "\n",
      "\n"
     ]
    }
   ],
   "source": [
    "print(ocr_result)"
   ]
  }
 ],
 "metadata": {
  "kernelspec": {
   "display_name": "Python 3",
   "language": "python",
   "name": "python3"
  },
  "language_info": {
   "codemirror_mode": {
    "name": "ipython",
    "version": 3
   },
   "file_extension": ".py",
   "mimetype": "text/x-python",
   "name": "python",
   "nbconvert_exporter": "python",
   "pygments_lexer": "ipython3",
   "version": "3.13.2"
  }
 },
 "nbformat": 4,
 "nbformat_minor": 2
}
