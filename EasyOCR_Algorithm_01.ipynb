{
 "cells": [
  {
   "cell_type": "code",
   "execution_count": 16,
   "metadata": {},
   "outputs": [],
   "source": [
    "import cv2\n",
    "import numpy as np\n",
    "import pytesseract\n",
    "import easyocr\n",
    "from matplotlib import pyplot as plt"
   ]
  },
  {
   "cell_type": "code",
   "execution_count": 17,
   "metadata": {},
   "outputs": [],
   "source": [
    "def display(img):\n",
    "    cv2.imshow(\"img\",img)\n",
    "    cv2.waitKey(0)"
   ]
  },
  {
   "cell_type": "code",
   "execution_count": 18,
   "metadata": {},
   "outputs": [],
   "source": [
    "img=cv2.imread(\"passport/4.PNG\")\n",
    "max_h,max_w=img.shape[:2]"
   ]
  },
  {
   "cell_type": "code",
   "execution_count": 19,
   "metadata": {},
   "outputs": [],
   "source": [
    "def display(img):\n",
    "    cv2.imshow(\"img\",img)\n",
    "    cv2.waitKey(0)"
   ]
  },
  {
   "cell_type": "code",
   "execution_count": 20,
   "metadata": {},
   "outputs": [],
   "source": [
    "display(img)"
   ]
  },
  {
   "cell_type": "code",
   "execution_count": 21,
   "metadata": {},
   "outputs": [],
   "source": [
    "def rotate(image,skew_angle):\n",
    "    a=0\n",
    "    if (skew_angle > 45) :\n",
    "        a=-(90-skew_angle)\n",
    "    else:\n",
    "        a=skew_angle\n",
    "    r,c=image.shape[:2]\n",
    "    M=cv2.getRotationMatrix2D(((c-1)/2.0,(r-1)/2.0),a,1)  \n",
    "    return cv2.warpAffine(image,M,(c,r))"
   ]
  },
  {
   "cell_type": "code",
   "execution_count": 22,
   "metadata": {},
   "outputs": [],
   "source": [
    "def contourize(image):\n",
    "    img=image.copy()\n",
    "    inverted=cv2.bitwise_not(img)\n",
    "    gray=cv2.cvtColor(inverted,cv2.COLOR_BGR2GRAY)\n",
    "    blur=cv2.GaussianBlur(gray,(5,5),0)\n",
    "    t=0\n",
    "    while t < 256:\n",
    "        thresh=cv2.threshold(blur,t,255,cv2.THRESH_BINARY)[1]\n",
    "        temp_dilate=cv2.dilate(thresh,cv2.getStructuringElement(cv2.MORPH_RECT,(5,1)),iterations=2)\n",
    "        temp_contours=cv2.findContours(temp_dilate,cv2.RETR_TREE,cv2.CHAIN_APPROX_NONE)[0]\n",
    "        temp_mrz=[]\n",
    "        skew_angles=[]\n",
    "        for c in temp_contours:\n",
    "            x,y,w,h=cv2.boundingRect(c)\n",
    "            if w>=0.5*max_w and h<0.2*max_h and y>0.3*max_h:\n",
    "                temp_mrz.append(c)\n",
    "                skew_angles.append(cv2.minAreaRect(c)[-1])\n",
    "                if len(temp_mrz)==2:\n",
    "                    return temp_mrz,sum(skew_angles)/len(skew_angles),temp_dilate\n",
    "        t+=10\n",
    "    print(\"mrz is not found\")\n",
    "    return [],0,None           \n",
    "                "
   ]
  },
  {
   "cell_type": "code",
   "execution_count": 23,
   "metadata": {},
   "outputs": [
    {
     "name": "stderr",
     "output_type": "stream",
     "text": [
      "Neither CUDA nor MPS are available - defaulting to CPU. Note: This module is much faster with a GPU.\n"
     ]
    }
   ],
   "source": [
    "reader=easyocr.Reader(['en'])"
   ]
  },
  {
   "cell_type": "code",
   "execution_count": 24,
   "metadata": {},
   "outputs": [],
   "source": [
    "def MRZ(image):\n",
    "    img=image.copy()\n",
    "    mrz,skew_angle,dilate=contourize(img)\n",
    "    if mrz==[]:\n",
    "        print(\"error\")\n",
    "        return\n",
    "    box_array=[]\n",
    "    for c in mrz:\n",
    "        minarearect=cv2.minAreaRect(c)\n",
    "        box=cv2.boxPoints(minarearect)\n",
    "        box32=np.int32(box)\n",
    "        box_array.append(box32)\n",
    "    display(cv2.drawContours(img.copy(),box_array,-1,(0,255,0),2))\n",
    "    temp_img=rotate(img,skew_angle)\n",
    "    temp_dil=rotate(dilate,skew_angle)\n",
    "    contours=cv2.findContours(temp_dil,cv2.RETR_TREE,cv2.CHAIN_APPROX_NONE)[0]\n",
    "    contours=sorted(contours,key= (lambda x: cv2.boundingRect(x)[1]))\n",
    "    for c in contours:\n",
    "        (x,y,w,h)= cv2.boundingRect(c)\n",
    "        if w>0.5*max_w and h<0.2*max_h and y>0.3*max_h:\n",
    "            margin=5\n",
    "            x=x-margin\n",
    "            w=w+2*margin\n",
    "            y=y-margin          \n",
    "            h=h+2*margin\n",
    "            ocr_result=reader.readtext(temp_img[y:y+h,x:x+w],detail=0)\n",
    "            print(ocr_result)\n",
    "            display(temp_img[y:y+h,x:x+w])  \n",
    "                   "
   ]
  },
  {
   "cell_type": "code",
   "execution_count": 25,
   "metadata": {},
   "outputs": [
    {
     "name": "stdout",
     "output_type": "stream",
     "text": [
      "['P<FIMMAMNARI<<VILLE<VE[KKO<petteri']\n",
      "['Cp2z485398FIn820826042908133260882<197r<<<6']\n"
     ]
    }
   ],
   "source": [
    "MRZ(img)"
   ]
  },
  {
   "cell_type": "code",
   "execution_count": 26,
   "metadata": {},
   "outputs": [],
   "source": [
    "def crop_pass(image):\n",
    "    img=image.copy()\n",
    "    gray=cv2.cvtColor(img,cv2.COLOR_BGR2GRAY)\n",
    "    t=255\n",
    "    ID=[]\n",
    "    while t>=0:\n",
    "        temp_thresh=cv2.threshold(gray,t,255,cv2.THRESH_BINARY)[1]\n",
    "        temp_dilate=cv2.dilate(temp_thresh,cv2.getStructuringElement(cv2.MORPH_RECT,(6,1)),iterations=5)\n",
    "        cnts=cv2.findContours(temp_dilate,cv2.RETR_TREE,cv2.CHAIN_APPROX_NONE)[0]\n",
    "        flag=False\n",
    "        for c in cnts:\n",
    "            area=cv2.contourArea(c)\n",
    "            if area>0.35*max_h*max_w:\n",
    "                ID.append(c)\n",
    "                flag=True\n",
    "        if (flag):\n",
    "            break\n",
    "        t-=10\n",
    "    display(cv2.drawContours(img.copy(),ID,-1,(0,255,0),2))    \n",
    "    for c in ID:\n",
    "        (x,y,w,h)=cv2.boundingRect(c)\n",
    "        display(img[y:y+h,x:x+w])\n",
    "        return img[y:y+h,x:x+w]       "
   ]
  },
  {
   "cell_type": "code",
   "execution_count": 27,
   "metadata": {},
   "outputs": [
    {
     "data": {
      "text/plain": [
       "array([[[ 89, 115, 162],\n",
       "        [ 93, 119, 166],\n",
       "        [ 92, 116, 164],\n",
       "        ...,\n",
       "        [127, 127, 127],\n",
       "        [127, 127, 127],\n",
       "        [127, 127, 127]],\n",
       "\n",
       "       [[ 90, 116, 163],\n",
       "        [ 90, 116, 163],\n",
       "        [ 90, 114, 161],\n",
       "        ...,\n",
       "        [127, 127, 127],\n",
       "        [127, 127, 127],\n",
       "        [127, 127, 127]],\n",
       "\n",
       "       [[ 95, 121, 168],\n",
       "        [ 96, 122, 169],\n",
       "        [ 93, 117, 165],\n",
       "        ...,\n",
       "        [127, 127, 127],\n",
       "        [127, 127, 127],\n",
       "        [127, 127, 127]],\n",
       "\n",
       "       ...,\n",
       "\n",
       "       [[115, 124, 134],\n",
       "        [118, 127, 137],\n",
       "        [120, 129, 139],\n",
       "        ...,\n",
       "        [127, 127, 127],\n",
       "        [127, 127, 127],\n",
       "        [127, 127, 127]],\n",
       "\n",
       "       [[118, 127, 137],\n",
       "        [120, 129, 139],\n",
       "        [120, 129, 139],\n",
       "        ...,\n",
       "        [127, 127, 127],\n",
       "        [127, 127, 127],\n",
       "        [127, 127, 127]],\n",
       "\n",
       "       [[122, 131, 141],\n",
       "        [123, 132, 142],\n",
       "        [123, 132, 142],\n",
       "        ...,\n",
       "        [127, 127, 127],\n",
       "        [127, 127, 127],\n",
       "        [127, 127, 127]]], shape=(344, 608, 3), dtype=uint8)"
      ]
     },
     "execution_count": 27,
     "metadata": {},
     "output_type": "execute_result"
    }
   ],
   "source": [
    "crop_pass(img)"
   ]
  },
  {
   "cell_type": "code",
   "execution_count": 28,
   "metadata": {},
   "outputs": [],
   "source": [
    "def contourize(image):\n",
    "    W  , H , _ = image.shape\n",
    "    img = image.copy()\n",
    "    inverted = cv2.bitwise_not(img)\n",
    "    gray = cv2.cvtColor(inverted , cv2.COLOR_BGR2GRAY)\n",
    "    blur = cv2.GaussianBlur(gray , (5 , 5) , 0)\n",
    "    t = 0\n",
    "    while t < 256:\n",
    "        bw = cv2.threshold(blur , t , 255 , cv2.THRESH_BINARY)[1]\n",
    "        temp_dilate = cv2.dilate(bw , cv2.getStructuringElement(cv2.MORPH_RECT ,(5 , 1)) , iterations = 2)\n",
    "        display(temp_dilate)\n",
    "        temp_contours = cv2.findContours(temp_dilate , cv2.RETR_TREE , cv2.CHAIN_APPROX_NONE)[0]\n",
    "        temp_mrz= [] \n",
    "        skew_angles =[]\n",
    "        # display(temp_dilate)\n",
    "        for c in temp_contours:\n",
    "            (x ,y , w ,h) = cv2.boundingRect(c)\n",
    "            if w>=0.5*W and h<0.2*H and y>0.3*H:\n",
    "                temp_mrz.append(c)\n",
    "                skew_angles.append(cv2.minAreaRect(c)[-1])\n",
    "        if(len(temp_mrz) == 2):\n",
    "            # display(cv2.drawContours(img.copy() , mrz , -1 , (0 , 255 , 0) , 2))\n",
    "            return temp_mrz , sum(skew_angles)/len(skew_angles) , temp_dilate\n",
    "        t+=10\n",
    "    print(\"Unable to detect MRZ\")\n",
    "    return [] , 0 , None"
   ]
  },
  {
   "cell_type": "code",
   "execution_count": 29,
   "metadata": {},
   "outputs": [],
   "source": [
    "def OCR(image):\n",
    "    img=image.copy()\n",
    "    cropped=crop_pass(img)\n",
    "    mrz,skew_angle,dilate=contourize(cropped)\n",
    "    skew_angles=[]\n",
    "    for c in mrz:\n",
    "        rotatedrect=cv2.minAreaRect(c)\n",
    "        skew_angles.append(rotatedrect[-1])\n",
    "    avg_skew=sum(skew_angles)/len(skew_angles)\n",
    "    deskewed=rotate(cropped,avg_skew)\n",
    "    mrz,skew_angle,dilate=contourize(deskewed)\n",
    "    mrz=sorted(mrz,key= lambda x: cv2.boundingRect(x)[1])\n",
    "    for c in mrz:\n",
    "        (x,y,w,h)=cv2.boundingRect(c)\n",
    "        margin=5\n",
    "        x=x-margin\n",
    "        w=w+2*margin\n",
    "        y=y-margin\n",
    "        h=h+2*margin\n",
    "        print(reader.readtext(deskewed[y:y+h,x:x+w],detail=0))\n",
    "        display(deskewed[y:y+h,x:x+w])"
   ]
  },
  {
   "cell_type": "code",
   "execution_count": 30,
   "metadata": {},
   "outputs": [
    {
     "name": "stdout",
     "output_type": "stream",
     "text": [
      "[]\n",
      "[]\n"
     ]
    }
   ],
   "source": [
    "OCR(img)"
   ]
  }
 ],
 "metadata": {
  "kernelspec": {
   "display_name": "Python 3",
   "language": "python",
   "name": "python3"
  },
  "language_info": {
   "codemirror_mode": {
    "name": "ipython",
    "version": 3
   },
   "file_extension": ".py",
   "mimetype": "text/x-python",
   "name": "python",
   "nbconvert_exporter": "python",
   "pygments_lexer": "ipython3",
   "version": "3.13.2"
  }
 },
 "nbformat": 4,
 "nbformat_minor": 2
}
