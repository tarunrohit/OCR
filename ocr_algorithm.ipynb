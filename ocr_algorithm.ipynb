{
 "cells": [
  {
   "cell_type": "code",
   "execution_count": 271,
   "metadata": {},
   "outputs": [],
   "source": [
    "import pytesseract\n",
    "import cv2\n",
    "from PIL import Image\n",
    "from matplotlib import pyplot as plt"
   ]
  },
  {
   "cell_type": "code",
   "execution_count": 272,
   "metadata": {},
   "outputs": [],
   "source": [
    "def display(img):\n",
    "    cv2.imshow(\"img\",img)\n",
    "    cv2.waitKey(0)"
   ]
  },
  {
   "cell_type": "code",
   "execution_count": 273,
   "metadata": {},
   "outputs": [],
   "source": [
    "img=cv2.imread(\"passport/8.PNG\")\n",
    "display(img)\n",
    "max_h,max_w=img.shape[:2]"
   ]
  },
  {
   "cell_type": "code",
   "execution_count": 274,
   "metadata": {},
   "outputs": [],
   "source": [
    "def rotateImage(image,skew_angle):\n",
    "    r=0\n",
    "    if (skew_angle > 45):\n",
    "        r=-(90-skew_angle)\n",
    "    else:\n",
    "        r=skew_angle\n",
    "    rows,cols=image.shape[:2]\n",
    "    M1=cv2.getRotationMatrix2D(((cols-1)/2,(rows-1)/2),r,1)\n",
    "    return (cv2.warpAffine(image,M1,(cols,rows)))"
   ]
  },
  {
   "cell_type": "code",
   "execution_count": 275,
   "metadata": {},
   "outputs": [],
   "source": [
    "def contourize(image):\n",
    "    img=image.copy()\n",
    "    inverted=cv2.bitwise_not(img)\n",
    "    gray=cv2.cvtColor(inverted,cv2.COLOR_BGR2GRAY)\n",
    "    blurred=cv2.GaussianBlur(gray,(5,5),0)\n",
    "    contours=[]\n",
    "    t=0\n",
    "    dilate=0\n",
    "    while t < 256:\n",
    "        _,thresh=cv2.threshold(blurred,t,255,cv2.THRESH_BINARY)\n",
    "        temp_dilate=cv2.dilate(thresh,cv2.getStructuringElement(cv2.MORPH_RECT,(5,1)),iterations=3)\n",
    "        temp_contours,_=cv2.findContours(temp_dilate,cv2.RETR_TREE,cv2.CHAIN_APPROX_SIMPLE)\n",
    "        if len(temp_contours)>len(contours):\n",
    "            contours=temp_contours\n",
    "            thresh_value=t\n",
    "            dilate=temp_dilate\n",
    "        t+=1    \n",
    "    \n",
    "    return (contours,dilate) "
   ]
  },
  {
   "cell_type": "code",
   "execution_count": 276,
   "metadata": {},
   "outputs": [],
   "source": [
    "def deskew(Id):\n",
    "    img=Id.copy()\n",
    "    contours,dilate=contourize(img)\n",
    "    skew_angles=[]\n",
    "    mrz=[]\n",
    "    for c in contours:\n",
    "        (x , y , w , h)=cv2.boundingRect(c)\n",
    "        if w>0.5*max_w and y>0.3*max_h:\n",
    "            rect=cv2.minAreaRect(c)\n",
    "            mrz.append(c)\n",
    "            skew_angles.append(rect[-1])\n",
    "    Avg_skew_angle=sum(skew_angles)/len(skew_angles)\n",
    "    deskewed_img=rotateImage(img,Avg_skew_angle)\n",
    "    deskewed_dilated=rotateImage(dilate,Avg_skew_angle)\n",
    "    display(deskewed_img)\n",
    "    contours=cv2.findContours(deskewed_dilated,cv2.RETR_TREE,cv2.CHAIN_APPROX_SIMPLE)[0]\n",
    "    margin=7\n",
    "    for c in contours:\n",
    "        (x,y,w,h)=cv2.boundingRect(c)\n",
    "        if w>0.4*max_w and y>0.6*max_h and h<0.2*max_h:\n",
    "            x=x-margin \n",
    "            y=y-margin\n",
    "            w=w+2*margin\n",
    "            h=h+2*margin\n",
    "            print(pytesseract.image_to_string(deskewed_img[y:y+h,x:x+w]))\n",
    "            display(deskewed_img[y:y+h,x:x+w])     "
   ]
  },
  {
   "cell_type": "code",
   "execution_count": 277,
   "metadata": {},
   "outputs": [
    {
     "name": "stdout",
     "output_type": "stream",
     "text": [
      "7600884096RUS7401053F2902201<<<<<<<\n",
      "\n",
      "PERUSMURZ I TSKOVAC<ELENA<<<<cccc<\n",
      "\n"
     ]
    }
   ],
   "source": [
    "deskew(img)"
   ]
  }
 ],
 "metadata": {
  "kernelspec": {
   "display_name": "Python 3",
   "language": "python",
   "name": "python3"
  },
  "language_info": {
   "codemirror_mode": {
    "name": "ipython",
    "version": 3
   },
   "file_extension": ".py",
   "mimetype": "text/x-python",
   "name": "python",
   "nbconvert_exporter": "python",
   "pygments_lexer": "ipython3",
   "version": "3.13.2"
  }
 },
 "nbformat": 4,
 "nbformat_minor": 2
}
