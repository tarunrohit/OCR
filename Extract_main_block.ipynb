{
 "cells": [
  {
   "cell_type": "code",
   "execution_count": null,
   "metadata": {},
   "outputs": [],
   "source": [
    "import cv2\n",
    "import pytesseract\n",
    "image=cv2.imread(\"temp/croped.jpg\")\n",
    "base_image=image.copy()\n",
    "gray=cv2.cvtColor(image,cv2.COLOR_BGR2GRAY)\n",
    "blur=cv2.GaussianBlur(gray,(7,7),0)\n",
    "thresh=cv2.adaptiveThreshold(blur, 255, cv2.ADAPTIVE_THRESH_GAUSSIAN_C, cv2.THRESH_BINARY_INV, 15, 4)\n"
   ]
  },
  {
   "cell_type": "code",
   "execution_count": 6,
   "metadata": {},
   "outputs": [
    {
     "data": {
      "text/plain": [
       "True"
      ]
     },
     "execution_count": 6,
     "metadata": {},
     "output_type": "execute_result"
    }
   ],
   "source": [
    "kernel=cv2.getStructuringElement(cv2.MORPH_RECT,(3,50))\n",
    "dilate=cv2.dilate(thresh,kernel,iterations=1)\n",
    "cv2.imwrite(\"temp/crop_dilated.png\",dilate)"
   ]
  },
  {
   "cell_type": "code",
   "execution_count": 7,
   "metadata": {},
   "outputs": [],
   "source": [
    "cnts=cv2.findContours(dilate,cv2.RETR_LIST,cv2.CHAIN_APPROX_SIMPLE)\n",
    "cnts=cnts[0] if len(cnts)==2 else cnts[1]\n",
    "cnts=sorted(cnts,key= lambda x: cv2.boundingRect(x)[1])"
   ]
  },
  {
   "cell_type": "code",
   "execution_count": 10,
   "metadata": {},
   "outputs": [
    {
     "data": {
      "text/plain": [
       "True"
      ]
     },
     "execution_count": 10,
     "metadata": {},
     "output_type": "execute_result"
    }
   ],
   "source": [
    "for c in cnts:\n",
    "    x,y,w,h=cv2.boundingRect(c)\n",
    "    if h > 200 and w > 250:\n",
    "        cv2.rectangle(image,(x,y),(x+w,y+h),(0,255,0),2)\n",
    "cv2.imwrite(\"temp/sample_boxes.png\",image)    "
   ]
  },
  {
   "cell_type": "code",
   "execution_count": 12,
   "metadata": {},
   "outputs": [
    {
     "name": "stdout",
     "output_type": "stream",
     "text": [
      "18 ALCVINI EPISTOLAE. 1.\n",
      "\n",
      "773-786 Alevinus amicum in monasterium se abditurum confirmat. De Benedicto monacho.\n",
      "773—786.\n",
      "\n",
      "Cod. H fol. 61'—62'.\n",
      "Edd. F 211, J. 8, — Migne col. 485.\n",
      "\n",
      "DILECTISSIMO* AMICO TOTIUS PROSPERITATIS PRAESENTIS ET AETERNAE 5\n",
      "BEATITUDINIS PERPETUAM SALUTEM. a\n",
      "Magna mihi laetitia est de bona voluntate vestra, quam audivi a fratre nostro}\n",
      "Benedicto! in vobis esse. Opto atque Deum deprecor, ut citius cum omni convenien-\n",
      "Board tia perficiatur. Scriptum est enim: ‘Ne tardes converti ad dominum Deum; quia\n",
      "nescis, quid ventura pariat dies’, Erue te de harum carcere tribulationum, quae in\n",
      "Ps. 33, 20/hoe mundo fidelium animos torquere solent®; sicut scriptum est: ‘Multae tribulationes|\n",
      "iustorum’; ut, quod sequitur, tibi evenire merearis: ‘Sed de his omnibus liberavit eos\n",
      "cf. Luc.9,62.| Dominus’. Et cave diligentissime, ne qua te, aratrum Domini tenentem, iniustitia\n",
      "retro revocet. Nemo miles sarcinis alienis onustus ad bella bene procedit, nisi armis|\n",
      "tantummodo victricibus, vel ad defensionem sui vel ad laesionem adversarii. 15\n",
      "Omnia quae vobis demandare necessaria videbantur mihi fidelissimo fratri Bene-\n",
      "dicto dixi: loca, adiutorium et animi constantiam.\n",
      "Sed scire debes, quod in omni loco, ubi hominum conversatio est plurimorum,\n",
      "utrumque et boni et mali inveniuntur. Sed sapiens animus utrorumque utatur magi-\n",
      "sterio; id est, ut malorum caveat malitiam, et bonorum sequatur iustitiam., Mens) 2\n",
      "regalis®, quae homini data est, discernere debet, quae sint cavenda et quae sint se-\n",
      "quenda; nec multum de loco diffidere vel etiam confidere. Quia, si locus adiuvare\n",
      "potuisset, numquam angelus de caelo cecidisset vel homo in paradyso positus pec-|\n",
      "Lue. 17,21-\\casset. Sed regnum Dei, ut ipsa veritas ait, intra nosmetipsos quaerendum est. Et\n",
      "Ps, $3, 10-\\psalmista: ‘Timete Dominum omnes sancti eius, quia nihil deest timentibus eum’.| 2\n",
      "imor Domini peccare vetat, dum homo ubique Dei sibi praesentiam agnoscit et timet.\n",
      "Quem® qui conscium habet cogitationum verborum vel operum suorum, hunc habi-\n",
      "turus est et iudicem. Nec eum quicquam effugit nostri nec aliquid iniudicatum de-\n",
      "Anji 221z-lmiserit; quia, sicut dictum est, unicuique reddet secundum opera sua, Dum tempus\n",
      "habemus, operemur bonum, quia post mortem non est tempus operandi, sed tempus] 30\n",
      "ercedem recipiendi. Haec cogitans, carissime fili, tui ipsius curam habeto, memor,\n",
      "de quantis te liberavit Deus periculis. Illum ama et ad eius misericordiam conver-\n",
      "ere, ut deleantur delicta tua et merearis locum refrigerii lucis et pacis recipere cum\n",
      "\n",
      "anctis Dei. Meique memor cum Dei servientibus pro teque intercedentibus valeas\n",
      "erpetua prosperitate, dulcissime amice. 35\n",
      "\n",
      "\n"
     ]
    }
   ],
   "source": [
    "ocr_result=pytesseract.image_to_string(image)\n",
    "print(ocr_result)"
   ]
  }
 ],
 "metadata": {
  "kernelspec": {
   "display_name": "Python 3",
   "language": "python",
   "name": "python3"
  },
  "language_info": {
   "codemirror_mode": {
    "name": "ipython",
    "version": 3
   },
   "file_extension": ".py",
   "mimetype": "text/x-python",
   "name": "python",
   "nbconvert_exporter": "python",
   "pygments_lexer": "ipython3",
   "version": "3.13.2"
  }
 },
 "nbformat": 4,
 "nbformat_minor": 2
}
